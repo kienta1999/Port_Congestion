{
 "cells": [
  {
   "cell_type": "code",
   "execution_count": 1,
   "id": "loving-clinton",
   "metadata": {},
   "outputs": [],
   "source": [
    "import numpy as np \n",
    "import pandas as pd \n",
    "from scipy import stats\n",
    "from scipy.stats import ks_2samp\n",
    "import matplotlib.pyplot as plt\n",
    "from statistics import mean\n",
    "from statistics import pstdev"
   ]
  },
  {
   "cell_type": "code",
   "execution_count": 2,
   "id": "dated-stuff",
   "metadata": {},
   "outputs": [],
   "source": [
    "#import data \n",
    "#data format example: 2012 01 ship indicator, one file represents one port, 60X3 for each file\n"
   ]
  },
  {
   "cell_type": "code",
   "execution_count": 3,
   "id": "irish-magnet",
   "metadata": {},
   "outputs": [],
   "source": [
    "#matrices: this function will give general information of monthly, seasonal and yearly change of the input port\n",
    "#monthly: month-(previous month) should contain n-1 (n is the total data number)\n",
    "#seasonal: month-(last quarter) should contain around n-3\n",
    "#yearly: month -last year month should contain n-12=\n",
    "#input: only the third column of data if the data is regular 5 year of 12 months and is in sequence of time\n",
    "#return: monthly_avg, monthly_std, seasonal_avg, seasonal_std, yearly_avg, yearly_std\n",
    "def general_info_port(data):\n",
    "    #initialization\n",
    "    monthly=[]\n",
    "    seasonal=[]\n",
    "    yearly=[]\n",
    "    #monthly\n",
    "    for i in range(len(data)-1):\n",
    "        monthly.append(data[i+1]-data[i])\n",
    "  \n",
    "    #seasonal\n",
    "    for i in range(len(data)-3):\n",
    "        seasonal.append(data[i+3]-data[i])\n",
    "  \n",
    "    #yearly\n",
    "    for i in range(len(data)-12):\n",
    "        yearly.append(data[i+12]-data[i])\n",
    "\n",
    "    #return: monthly_avg, monthly_std, seasonal_avg, seasonal_std, yearly_avg, yearly_std\n",
    "    return mean(monthly),pstdev(monthly), mean(seasonal),pstdev(seasonal), mean(yearly),pstdev(yearly)\n"
   ]
  },
  {
   "cell_type": "code",
   "execution_count": 4,
   "id": "cardiovascular-career",
   "metadata": {},
   "outputs": [],
   "source": [
    "#the function will give the predictive indicator for a certain date of the input port\n",
    "#given a date, predict possible range of value of that date\n",
    "#input: position of the desired month in the matrix, data itself(for getting all the mean and stds) \n",
    "#(e.g. if starts with 2012.01, and the desired month is 2013.01, then position = 12)\n",
    "#please don't select month in 2012\n",
    "#if the desired month is the next month, then position = current data length (60 in this case)\n",
    "#return: monthly_predict, monthly_std, seasonal_predict, seasonal_std, yearly_predict, yearly_std\n",
    "def prediction(position,data):\n",
    "    monthly_avg, monthly_std, seasonal_avg, seasonal_std, yearly_avg, yearly_std=general_info_port(data[:,2])\n",
    "    monthly_predict=data[position-1,2]+monthly_avg\n",
    "    seasonal_predict=data[position-3,2]+seasonal_avg\n",
    "    yearly_predict=data[position-12,2]+yearly_avg\n",
    "    return monthly_predict,monthly_std,seasonal_predict, seasonal_std, yearly_predict, yearly_std"
   ]
  },
  {
   "cell_type": "code",
   "execution_count": 28,
   "id": "parallel-pakistan",
   "metadata": {},
   "outputs": [],
   "source": [
    "#compare real data to the prediction data, send alert if abnormal\n",
    "#input: position, data to call prediction, true_value to compare with\n",
    "#output: print alert if abnormal, else print normal\n",
    "def abnormal_detection(position,data,true_value):\n",
    "    monthly_predict,monthly_std,seasonal_predict, seasonal_std, yearly_predict, yearly_std=prediction(position,data)\n",
    "    #std-tolerance is 1 currently, could be set to 2 if 1 is inappropriate\n",
    "    std_tolerance=1\n",
    "    #test if the true value is normal in the sense of monthly trend\n",
    "    monthly_low=monthly_predict-monthly_std*std_tolerance\n",
    "    monthly_high=monthly_predict+monthly_std*std_tolerance\n",
    "    if true_value<monthly_low or true_value>monthly_high:\n",
    "        print(\"Alert-monthly: was expecting \", monthly_low, \" to \", monthly_high, \", but is \", true_value)\n",
    "    else:\n",
    "        print(\"Normal-monthly\")\n",
    "\n",
    "    #test if the true value is normal in the sense of seasonal trend\n",
    "    seasonal_low=seasonal_predict-seasonal_std*std_tolerance\n",
    "    seasonal_high=seasonal_predict+seasonal_std*std_tolerance\n",
    "    if true_value<seasonal_low or true_value>seasonal_high:\n",
    "        print(\"Alert-seasonal: was expecting \", seasonal_low, \" to \", seasonal_high, \", but is \", true_value)\n",
    "    else:\n",
    "        print(\"Normal-seasonal\")\n",
    "\n",
    "    #test if the true value is normal in the sense of yearly trend\n",
    "    yearly_low=yearly_predict-yearly_std*std_tolerance\n",
    "    yearly_high=yearly_predict+yearly_std*std_tolerance\n",
    "    if true_value<yearly_low or true_value>yearly_high:\n",
    "        print(\"Alert-yearly: was expecting \", yearly_low, \" to \", yearly_high, \", but is \", true_value)\n",
    "    else:\n",
    "        print(\"Normal-yearly\")"
   ]
  },
  {
   "cell_type": "code",
   "execution_count": 45,
   "id": "younger-seller",
   "metadata": {},
   "outputs": [
    {
     "name": "stdout",
     "output_type": "stream",
     "text": [
      "(1.5254237288135593, 37.989452564842075, 0.21052631578947367, 41.19944508317543, 1.2291666666666667, 38.647574084784274)\n",
      "(95.52542372881356, 37.989452564842075, 16.210526315789473, 41.19944508317543, 61.229166666666664, 38.647574084784274)\n",
      "Alert-monthly: was expecting  57.53597116397149  to  133.51487629365565 , but is  200\n",
      "Alert-seasonal: was expecting  -24.98891876738596  to  57.409971398964906 , but is  200\n",
      "Alert-yearly: was expecting  22.58159258188239  to  99.87674075145094 , but is  200\n"
     ]
    }
   ],
   "source": [
    "#generate mock data: Number of ships for size small, medium and big\n",
    "features=3\n",
    "coefficient=100\n",
    "year_number=5\n",
    "data=np.around(np.random.rand(year_number*12,features)*coefficient)\n",
    "\n",
    "#mock printing information about the given port\n",
    "print(general_info_port(data[:,2]))\n",
    "\n",
    "#mock prediction of next month\n",
    "print(prediction(60,data))\n",
    "\n",
    "# #mock abnormal detection\n",
    "abnormal_detection(60,data,200)"
   ]
  },
  {
   "cell_type": "code",
   "execution_count": 46,
   "id": "played-kelly",
   "metadata": {},
   "outputs": [],
   "source": [
    "def get_port_data(all_data, name):\n",
    "    #data = all_data[name]\n",
    "    features=3\n",
    "    coefficient=100\n",
    "    year_number=5\n",
    "    data = np.around(np.random.rand(year_number*12,features)*coefficient)\n",
    "    return data"
   ]
  },
  {
   "cell_type": "code",
   "execution_count": 47,
   "id": "relative-suspension",
   "metadata": {},
   "outputs": [],
   "source": [
    "def main():\n",
    "    print(\"Select desired port to get information:\")\n",
    "    port_name = input()\n",
    "    print(\"- Selected port:\", port_name)\n",
    "    port_data = get_port_data([], port_name)\n",
    "    while True:\n",
    "        print(\"Select one of the follow commands: 'port_info', 'prediction', 'abnormal_detection', or 'quit'\")\n",
    "        command = input()\n",
    "        if command == 'port_info':\n",
    "            monthly_avg, monthly_std, seasonal_avg, seasonal_std, yearly_avg, yearly_std = general_info_port(port_data[:,2])\n",
    "            print(\"Monthly average:\", monthly_avg)\n",
    "            print(\"Monthly standard deviation:\", monthly_std)\n",
    "            print(\"Seasonal average:\", monthly_avg)\n",
    "            print(\"Seasonal standard deviation:\", monthly_avg)\n",
    "            print(\"Yearly average:\", monthly_avg)\n",
    "            print(\"Yearly standard deviation:\", monthly_avg)\n",
    "            print()\n",
    "        elif command == 'prediction':\n",
    "            while True:\n",
    "                print(\"Enter a desired month in format YYYY.MM starting from 2012.01 (please don't select month in 2012)\")\n",
    "                position = input()\n",
    "                try:\n",
    "                    year = int(position.split(\".\")[0])\n",
    "                    month = int(position.split(\".\")[1])\n",
    "                    if month > 12:\n",
    "                        print(\"Invalid month...\")\n",
    "                    elif year < 2012:\n",
    "                        print(\"Invalid year...\")\n",
    "                    else:\n",
    "                        position = (year - 2012) * 12 + (month - 1)\n",
    "                        monthly_predict,monthly_std,seasonal_predict, seasonal_std, yearly_predict, yearly_std = prediction(position, port_data)\n",
    "                        print(\"Monthly predict:\", monthly_predict)\n",
    "                        print(\"Monthly standard deviation:\", monthly_std)\n",
    "                        print(\"Seasonal predict:\", monthly_avg)\n",
    "                        print(\"Seasonal standard deviation:\", monthly_avg)\n",
    "                        print(\"Yearly predict:\", monthly_avg)\n",
    "                        print(\"Yearly standard deviation:\", monthly_avg)\n",
    "                        print()\n",
    "                        break\n",
    "                except:\n",
    "                    print(\"Invalid format\")\n",
    "        elif command == 'abnormal_detection':\n",
    "            while True:\n",
    "                try:\n",
    "                    print(\"Enter a desired month in format YYYY.MM starting from 2012.01 (please don't select month in 2012)\")\n",
    "                    position = input()\n",
    "                    year = int(position.split(\".\")[0])\n",
    "                    month = int(position.split(\".\")[1])\n",
    "                    if month > 12:\n",
    "                        print(\"Invalid month...\")\n",
    "                    elif year < 2012:\n",
    "                        print(\"Invalid year...\")\n",
    "                    else:\n",
    "                        print(\"Enter a true value to compare real data to the prediction data (must be a positive number):\")\n",
    "                        true_value = int(input())\n",
    "                        position = (year - 2012) * 12 + (month - 1)\n",
    "                        abnormal_detection(position, port_data, true_value)\n",
    "                        break\n",
    "                except:\n",
    "                    print(\"Invalid format\")\n",
    "        elif command == 'quit':\n",
    "            break\n",
    "        else:\n",
    "            print(\"Invalid command\")\n",
    "            "
   ]
  },
  {
   "cell_type": "code",
   "execution_count": 48,
   "id": "oriental-glory",
   "metadata": {
    "scrolled": false
   },
   "outputs": [
    {
     "name": "stdout",
     "output_type": "stream",
     "text": [
      "Select desired port to get information:\n",
      "l\n",
      "- Selected port: l\n",
      "Select one of the follow commands: 'port_info', 'prediction', 'abnormal_detection', or 'quit'\n",
      "abnormal_detection\n",
      "Enter a desired month in format YYYY.MM starting from 2012.01 (please don't select month in 2012)\n",
      "2018.07\n",
      "Enter a true value to compare real data to the prediction data (must be a positive number):\n",
      "200\n",
      "Invalid format\n",
      "Enter a desired month in format YYYY.MM starting from 2012.01 (please don't select month in 2012)\n",
      "quit\n",
      "Invalid format\n",
      "Enter a desired month in format YYYY.MM starting from 2012.01 (please don't select month in 2012)\n",
      "Invalid format\n",
      "Enter a desired month in format YYYY.MM starting from 2012.01 (please don't select month in 2012)\n",
      "Invalid format\n",
      "Enter a desired month in format YYYY.MM starting from 2012.01 (please don't select month in 2012)\n",
      "2017.01\n",
      "Enter a true value to compare real data to the prediction data (must be a positive number):\n",
      "200\n",
      "Alert-monthly: was expecting  32.07206366165528  to  124.36861430444642 , but is  200\n",
      "Alert-seasonal: was expecting  48.23628947934218  to  129.41283332767534 , but is  200\n",
      "Alert-yearly: was expecting  50.5843164049581  to  142.4156835950419 , but is  200\n",
      "Select one of the follow commands: 'port_info', 'prediction', 'abnormal_detection', or 'quit'\n",
      "quit\n"
     ]
    }
   ],
   "source": [
    "main()"
   ]
  },
  {
   "cell_type": "code",
   "execution_count": null,
   "id": "optional-czech",
   "metadata": {},
   "outputs": [],
   "source": []
  }
 ],
 "metadata": {
  "kernelspec": {
   "display_name": "Python 3",
   "language": "python",
   "name": "python3"
  },
  "language_info": {
   "codemirror_mode": {
    "name": "ipython",
    "version": 3
   },
   "file_extension": ".py",
   "mimetype": "text/x-python",
   "name": "python",
   "nbconvert_exporter": "python",
   "pygments_lexer": "ipython3",
   "version": "3.7.9"
  }
 },
 "nbformat": 4,
 "nbformat_minor": 5
}
